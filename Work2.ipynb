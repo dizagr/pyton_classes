{
 "cells": [
  {
   "attachments": {},
   "cell_type": "markdown",
   "metadata": {},
   "source": [
    "# Описание датафрейма\n",
    "\n",
    "This dataset contains sales data for video games from all around the world, across different platforms, genres and regions. From the thought-provoking latest release of RPGs to the thrilling adventures of racing games, this database provides an insight into what constitutes as a hit game in today’s gaming industry. Armed with this data and analysis, future developers can better understand what types of gameplay and mechanics resonate more with players to create a new gaming experience. Through its comprehensive analysis on various game titles, genres and platforms this dataset displays detailed insights into how video games can achieve global success as well as providing a wonderful window into the ever-changing trends of gaming culture\n",
    "\n",
    "Rank: The ranking of the game in terms of global sales.\n",
    "\n",
    "Game: Title\tThe title of the game.\n",
    "\n",
    "Platform: The platform the game was released on.\n",
    "\n",
    "Year: The year the game was released.\n",
    "\n",
    "Genre: The genre of the game.\n",
    "\n",
    "Publisher: The publisher of the game.\n",
    "\n",
    "North America: The sales of the game in North America.\n",
    "\n",
    "Europe: The sales of the game in Europe.\n",
    "\n",
    "Japan: The sales of the game in Japan.\n",
    "\n",
    "Rest of World: The sales of the game in the rest of the world.\n",
    "\n",
    "Global: The total global sales of the game.\n",
    "\n",
    "Review: The review score of the game."
   ]
  },
  {
   "attachments": {},
   "cell_type": "markdown",
   "metadata": {},
   "source": [
    "# Импорт"
   ]
  },
  {
   "cell_type": "code",
   "execution_count": 297,
   "metadata": {},
   "outputs": [],
   "source": [
    "import pandas as pd\n",
    "import numpy as np\n",
    "import matplotlib.pyplot as plt\n",
    "import seaborn as sns"
   ]
  },
  {
   "cell_type": "code",
   "execution_count": 76,
   "metadata": {},
   "outputs": [
    {
     "data": {
      "text/html": [
       "<div>\n",
       "<style scoped>\n",
       "    .dataframe tbody tr th:only-of-type {\n",
       "        vertical-align: middle;\n",
       "    }\n",
       "\n",
       "    .dataframe tbody tr th {\n",
       "        vertical-align: top;\n",
       "    }\n",
       "\n",
       "    .dataframe thead th {\n",
       "        text-align: right;\n",
       "    }\n",
       "</style>\n",
       "<table border=\"1\" class=\"dataframe\">\n",
       "  <thead>\n",
       "    <tr style=\"text-align: right;\">\n",
       "      <th></th>\n",
       "      <th>index</th>\n",
       "      <th>Rank</th>\n",
       "      <th>Game Title</th>\n",
       "      <th>Platform</th>\n",
       "      <th>Year</th>\n",
       "      <th>Genre</th>\n",
       "      <th>Publisher</th>\n",
       "      <th>North America</th>\n",
       "      <th>Europe</th>\n",
       "      <th>Japan</th>\n",
       "      <th>Rest of World</th>\n",
       "      <th>Global</th>\n",
       "      <th>Review</th>\n",
       "    </tr>\n",
       "  </thead>\n",
       "  <tbody>\n",
       "    <tr>\n",
       "      <th>0</th>\n",
       "      <td>0</td>\n",
       "      <td>1</td>\n",
       "      <td>Wii Sports</td>\n",
       "      <td>Wii</td>\n",
       "      <td>2006.0</td>\n",
       "      <td>Sports</td>\n",
       "      <td>Nintendo</td>\n",
       "      <td>40.43</td>\n",
       "      <td>28.39</td>\n",
       "      <td>3.77</td>\n",
       "      <td>8.54</td>\n",
       "      <td>81.12</td>\n",
       "      <td>76.28</td>\n",
       "    </tr>\n",
       "    <tr>\n",
       "      <th>1</th>\n",
       "      <td>1</td>\n",
       "      <td>2</td>\n",
       "      <td>Super Mario Bros.</td>\n",
       "      <td>NES</td>\n",
       "      <td>1985.0</td>\n",
       "      <td>Platform</td>\n",
       "      <td>Nintendo</td>\n",
       "      <td>29.08</td>\n",
       "      <td>3.58</td>\n",
       "      <td>6.81</td>\n",
       "      <td>0.77</td>\n",
       "      <td>40.24</td>\n",
       "      <td>91.00</td>\n",
       "    </tr>\n",
       "    <tr>\n",
       "      <th>2</th>\n",
       "      <td>2</td>\n",
       "      <td>3</td>\n",
       "      <td>Mario Kart Wii</td>\n",
       "      <td>Wii</td>\n",
       "      <td>2008.0</td>\n",
       "      <td>Racing</td>\n",
       "      <td>Nintendo</td>\n",
       "      <td>14.50</td>\n",
       "      <td>12.22</td>\n",
       "      <td>3.63</td>\n",
       "      <td>3.21</td>\n",
       "      <td>33.55</td>\n",
       "      <td>82.07</td>\n",
       "    </tr>\n",
       "    <tr>\n",
       "      <th>3</th>\n",
       "      <td>3</td>\n",
       "      <td>4</td>\n",
       "      <td>Wii Sports Resort</td>\n",
       "      <td>Wii</td>\n",
       "      <td>2009.0</td>\n",
       "      <td>Sports</td>\n",
       "      <td>Nintendo</td>\n",
       "      <td>14.82</td>\n",
       "      <td>10.51</td>\n",
       "      <td>3.18</td>\n",
       "      <td>3.01</td>\n",
       "      <td>31.52</td>\n",
       "      <td>82.65</td>\n",
       "    </tr>\n",
       "    <tr>\n",
       "      <th>4</th>\n",
       "      <td>4</td>\n",
       "      <td>5</td>\n",
       "      <td>Tetris</td>\n",
       "      <td>GB</td>\n",
       "      <td>1989.0</td>\n",
       "      <td>Puzzle</td>\n",
       "      <td>Nintendo</td>\n",
       "      <td>23.20</td>\n",
       "      <td>2.26</td>\n",
       "      <td>4.22</td>\n",
       "      <td>0.58</td>\n",
       "      <td>30.26</td>\n",
       "      <td>88.00</td>\n",
       "    </tr>\n",
       "    <tr>\n",
       "      <th>...</th>\n",
       "      <td>...</td>\n",
       "      <td>...</td>\n",
       "      <td>...</td>\n",
       "      <td>...</td>\n",
       "      <td>...</td>\n",
       "      <td>...</td>\n",
       "      <td>...</td>\n",
       "      <td>...</td>\n",
       "      <td>...</td>\n",
       "      <td>...</td>\n",
       "      <td>...</td>\n",
       "      <td>...</td>\n",
       "      <td>...</td>\n",
       "    </tr>\n",
       "    <tr>\n",
       "      <th>1902</th>\n",
       "      <td>1902</td>\n",
       "      <td>1903</td>\n",
       "      <td>Lizzie McGuire 2: Lizzie Diaries</td>\n",
       "      <td>GBA</td>\n",
       "      <td>2004.0</td>\n",
       "      <td>Action</td>\n",
       "      <td>Disney Interactive Studios</td>\n",
       "      <td>0.60</td>\n",
       "      <td>0.22</td>\n",
       "      <td>0.00</td>\n",
       "      <td>0.01</td>\n",
       "      <td>0.83</td>\n",
       "      <td>55.00</td>\n",
       "    </tr>\n",
       "    <tr>\n",
       "      <th>1903</th>\n",
       "      <td>1903</td>\n",
       "      <td>1904</td>\n",
       "      <td>Xenoblade Chronicles</td>\n",
       "      <td>Wii</td>\n",
       "      <td>2010.0</td>\n",
       "      <td>Role-Playing</td>\n",
       "      <td>Nintendo</td>\n",
       "      <td>0.39</td>\n",
       "      <td>0.22</td>\n",
       "      <td>0.16</td>\n",
       "      <td>0.07</td>\n",
       "      <td>0.83</td>\n",
       "      <td>91.74</td>\n",
       "    </tr>\n",
       "    <tr>\n",
       "      <th>1904</th>\n",
       "      <td>1904</td>\n",
       "      <td>1905</td>\n",
       "      <td>SingStar Abba</td>\n",
       "      <td>PS3</td>\n",
       "      <td>2008.0</td>\n",
       "      <td>Misc</td>\n",
       "      <td>Sony Computer Entertainment</td>\n",
       "      <td>0.25</td>\n",
       "      <td>0.44</td>\n",
       "      <td>0.00</td>\n",
       "      <td>0.14</td>\n",
       "      <td>0.83</td>\n",
       "      <td>73.00</td>\n",
       "    </tr>\n",
       "    <tr>\n",
       "      <th>1905</th>\n",
       "      <td>1905</td>\n",
       "      <td>1906</td>\n",
       "      <td>FIFA Soccer World Championship</td>\n",
       "      <td>PS2</td>\n",
       "      <td>2000.0</td>\n",
       "      <td>Sports</td>\n",
       "      <td>Electronic Arts</td>\n",
       "      <td>0.27</td>\n",
       "      <td>0.21</td>\n",
       "      <td>0.28</td>\n",
       "      <td>0.07</td>\n",
       "      <td>0.83</td>\n",
       "      <td>73.00</td>\n",
       "    </tr>\n",
       "    <tr>\n",
       "      <th>1906</th>\n",
       "      <td>1906</td>\n",
       "      <td>1907</td>\n",
       "      <td>WWE SmackDown vs. Raw 2011</td>\n",
       "      <td>X360</td>\n",
       "      <td>2010.0</td>\n",
       "      <td>Fighting</td>\n",
       "      <td>THQ</td>\n",
       "      <td>0.42</td>\n",
       "      <td>0.32</td>\n",
       "      <td>0.00</td>\n",
       "      <td>0.09</td>\n",
       "      <td>0.83</td>\n",
       "      <td>82.00</td>\n",
       "    </tr>\n",
       "  </tbody>\n",
       "</table>\n",
       "<p>1907 rows × 13 columns</p>\n",
       "</div>"
      ],
      "text/plain": [
       "      index  Rank                        Game Title Platform    Year  \\\n",
       "0         0     1                        Wii Sports      Wii  2006.0   \n",
       "1         1     2                 Super Mario Bros.      NES  1985.0   \n",
       "2         2     3                    Mario Kart Wii      Wii  2008.0   \n",
       "3         3     4                 Wii Sports Resort      Wii  2009.0   \n",
       "4         4     5                            Tetris       GB  1989.0   \n",
       "...     ...   ...                               ...      ...     ...   \n",
       "1902   1902  1903  Lizzie McGuire 2: Lizzie Diaries      GBA  2004.0   \n",
       "1903   1903  1904              Xenoblade Chronicles      Wii  2010.0   \n",
       "1904   1904  1905                     SingStar Abba      PS3  2008.0   \n",
       "1905   1905  1906    FIFA Soccer World Championship      PS2  2000.0   \n",
       "1906   1906  1907        WWE SmackDown vs. Raw 2011     X360  2010.0   \n",
       "\n",
       "             Genre                    Publisher  North America  Europe  Japan  \\\n",
       "0           Sports                     Nintendo          40.43   28.39   3.77   \n",
       "1         Platform                     Nintendo          29.08    3.58   6.81   \n",
       "2           Racing                     Nintendo          14.50   12.22   3.63   \n",
       "3           Sports                     Nintendo          14.82   10.51   3.18   \n",
       "4           Puzzle                     Nintendo          23.20    2.26   4.22   \n",
       "...            ...                          ...            ...     ...    ...   \n",
       "1902        Action   Disney Interactive Studios           0.60    0.22   0.00   \n",
       "1903  Role-Playing                     Nintendo           0.39    0.22   0.16   \n",
       "1904          Misc  Sony Computer Entertainment           0.25    0.44   0.00   \n",
       "1905        Sports              Electronic Arts           0.27    0.21   0.28   \n",
       "1906      Fighting                          THQ           0.42    0.32   0.00   \n",
       "\n",
       "      Rest of World  Global  Review  \n",
       "0              8.54   81.12   76.28  \n",
       "1              0.77   40.24   91.00  \n",
       "2              3.21   33.55   82.07  \n",
       "3              3.01   31.52   82.65  \n",
       "4              0.58   30.26   88.00  \n",
       "...             ...     ...     ...  \n",
       "1902           0.01    0.83   55.00  \n",
       "1903           0.07    0.83   91.74  \n",
       "1904           0.14    0.83   73.00  \n",
       "1905           0.07    0.83   73.00  \n",
       "1906           0.09    0.83   82.00  \n",
       "\n",
       "[1907 rows x 13 columns]"
      ]
     },
     "execution_count": 76,
     "metadata": {},
     "output_type": "execute_result"
    }
   ],
   "source": [
    "games=pd.read_csv('/Users/zagranichnyid/Downloads/Video Games Sales.csv')\n",
    "games"
   ]
  },
  {
   "attachments": {},
   "cell_type": "markdown",
   "metadata": {},
   "source": [
    "# Подготовка датафрейма к анализу"
   ]
  },
  {
   "attachments": {},
   "cell_type": "markdown",
   "metadata": {},
   "source": [
    "## Посмотрим состав датафрейма"
   ]
  },
  {
   "cell_type": "code",
   "execution_count": 77,
   "metadata": {},
   "outputs": [
    {
     "name": "stdout",
     "output_type": "stream",
     "text": [
      "<class 'pandas.core.frame.DataFrame'>\n",
      "RangeIndex: 1907 entries, 0 to 1906\n",
      "Data columns (total 13 columns):\n",
      " #   Column         Non-Null Count  Dtype  \n",
      "---  ------         --------------  -----  \n",
      " 0   index          1907 non-null   int64  \n",
      " 1   Rank           1907 non-null   int64  \n",
      " 2   Game Title     1907 non-null   object \n",
      " 3   Platform       1907 non-null   object \n",
      " 4   Year           1878 non-null   float64\n",
      " 5   Genre          1907 non-null   object \n",
      " 6   Publisher      1905 non-null   object \n",
      " 7   North America  1907 non-null   float64\n",
      " 8   Europe         1907 non-null   float64\n",
      " 9   Japan          1907 non-null   float64\n",
      " 10  Rest of World  1907 non-null   float64\n",
      " 11  Global         1907 non-null   float64\n",
      " 12  Review         1907 non-null   float64\n",
      "dtypes: float64(7), int64(2), object(4)\n",
      "memory usage: 193.8+ KB\n"
     ]
    }
   ],
   "source": [
    "games.info()"
   ]
  },
  {
   "cell_type": "code",
   "execution_count": 78,
   "metadata": {},
   "outputs": [
    {
     "data": {
      "text/html": [
       "<div>\n",
       "<style scoped>\n",
       "    .dataframe tbody tr th:only-of-type {\n",
       "        vertical-align: middle;\n",
       "    }\n",
       "\n",
       "    .dataframe tbody tr th {\n",
       "        vertical-align: top;\n",
       "    }\n",
       "\n",
       "    .dataframe thead th {\n",
       "        text-align: right;\n",
       "    }\n",
       "</style>\n",
       "<table border=\"1\" class=\"dataframe\">\n",
       "  <thead>\n",
       "    <tr style=\"text-align: right;\">\n",
       "      <th></th>\n",
       "      <th>index</th>\n",
       "      <th>Rank</th>\n",
       "      <th>Game Title</th>\n",
       "      <th>Platform</th>\n",
       "      <th>Year</th>\n",
       "      <th>Genre</th>\n",
       "      <th>Publisher</th>\n",
       "      <th>North America</th>\n",
       "      <th>Europe</th>\n",
       "      <th>Japan</th>\n",
       "      <th>Rest of World</th>\n",
       "      <th>Global</th>\n",
       "      <th>Review</th>\n",
       "    </tr>\n",
       "  </thead>\n",
       "  <tbody>\n",
       "    <tr>\n",
       "      <th>73</th>\n",
       "      <td>73</td>\n",
       "      <td>74</td>\n",
       "      <td>The Legend of Zelda: Ocarina of Time</td>\n",
       "      <td>N64</td>\n",
       "      <td>1998.0</td>\n",
       "      <td>Adventure</td>\n",
       "      <td>Nintendo</td>\n",
       "      <td>4.10</td>\n",
       "      <td>1.89</td>\n",
       "      <td>1.45</td>\n",
       "      <td>0.16</td>\n",
       "      <td>7.60</td>\n",
       "      <td>97.00</td>\n",
       "    </tr>\n",
       "    <tr>\n",
       "      <th>821</th>\n",
       "      <td>821</td>\n",
       "      <td>822</td>\n",
       "      <td>The Orange Box</td>\n",
       "      <td>X360</td>\n",
       "      <td>2007.0</td>\n",
       "      <td>Shooter</td>\n",
       "      <td>Electronic Arts</td>\n",
       "      <td>1.04</td>\n",
       "      <td>0.48</td>\n",
       "      <td>0.02</td>\n",
       "      <td>0.17</td>\n",
       "      <td>1.71</td>\n",
       "      <td>96.36</td>\n",
       "    </tr>\n",
       "    <tr>\n",
       "      <th>411</th>\n",
       "      <td>411</td>\n",
       "      <td>412</td>\n",
       "      <td>Metroid Prime</td>\n",
       "      <td>GC</td>\n",
       "      <td>2002.0</td>\n",
       "      <td>Shooter</td>\n",
       "      <td>Nintendo</td>\n",
       "      <td>1.96</td>\n",
       "      <td>0.67</td>\n",
       "      <td>0.10</td>\n",
       "      <td>0.09</td>\n",
       "      <td>2.82</td>\n",
       "      <td>96.35</td>\n",
       "    </tr>\n",
       "    <tr>\n",
       "      <th>78</th>\n",
       "      <td>78</td>\n",
       "      <td>79</td>\n",
       "      <td>Tekken 3</td>\n",
       "      <td>PS</td>\n",
       "      <td>1998.0</td>\n",
       "      <td>Fighting</td>\n",
       "      <td>Sony Computer Entertainment</td>\n",
       "      <td>3.27</td>\n",
       "      <td>2.22</td>\n",
       "      <td>1.40</td>\n",
       "      <td>0.29</td>\n",
       "      <td>7.16</td>\n",
       "      <td>96.30</td>\n",
       "    </tr>\n",
       "    <tr>\n",
       "      <th>461</th>\n",
       "      <td>461</td>\n",
       "      <td>462</td>\n",
       "      <td>BioShock</td>\n",
       "      <td>X360</td>\n",
       "      <td>2007.0</td>\n",
       "      <td>Shooter</td>\n",
       "      <td>Take-Two Interactive</td>\n",
       "      <td>1.46</td>\n",
       "      <td>0.81</td>\n",
       "      <td>0.05</td>\n",
       "      <td>0.26</td>\n",
       "      <td>2.58</td>\n",
       "      <td>96.12</td>\n",
       "    </tr>\n",
       "    <tr>\n",
       "      <th>...</th>\n",
       "      <td>...</td>\n",
       "      <td>...</td>\n",
       "      <td>...</td>\n",
       "      <td>...</td>\n",
       "      <td>...</td>\n",
       "      <td>...</td>\n",
       "      <td>...</td>\n",
       "      <td>...</td>\n",
       "      <td>...</td>\n",
       "      <td>...</td>\n",
       "      <td>...</td>\n",
       "      <td>...</td>\n",
       "      <td>...</td>\n",
       "    </tr>\n",
       "    <tr>\n",
       "      <th>953</th>\n",
       "      <td>953</td>\n",
       "      <td>954</td>\n",
       "      <td>High School Musical 3: Senior Year</td>\n",
       "      <td>DS</td>\n",
       "      <td>2008.0</td>\n",
       "      <td>Misc</td>\n",
       "      <td>Disney Interactive Studios</td>\n",
       "      <td>0.60</td>\n",
       "      <td>0.75</td>\n",
       "      <td>0.00</td>\n",
       "      <td>0.17</td>\n",
       "      <td>1.53</td>\n",
       "      <td>35.00</td>\n",
       "    </tr>\n",
       "    <tr>\n",
       "      <th>1558</th>\n",
       "      <td>1558</td>\n",
       "      <td>1559</td>\n",
       "      <td>Dora the Explorer: Dora Saves the Mermaids</td>\n",
       "      <td>DS</td>\n",
       "      <td>2007.0</td>\n",
       "      <td>Platform</td>\n",
       "      <td>Take-Two Interactive</td>\n",
       "      <td>0.94</td>\n",
       "      <td>0.00</td>\n",
       "      <td>0.00</td>\n",
       "      <td>0.08</td>\n",
       "      <td>1.03</td>\n",
       "      <td>34.00</td>\n",
       "    </tr>\n",
       "    <tr>\n",
       "      <th>1387</th>\n",
       "      <td>1387</td>\n",
       "      <td>1388</td>\n",
       "      <td>High School Musical 2: Work This Out!</td>\n",
       "      <td>DS</td>\n",
       "      <td>2008.0</td>\n",
       "      <td>Misc</td>\n",
       "      <td>Disney Interactive Studios</td>\n",
       "      <td>0.49</td>\n",
       "      <td>0.52</td>\n",
       "      <td>0.00</td>\n",
       "      <td>0.13</td>\n",
       "      <td>1.14</td>\n",
       "      <td>33.00</td>\n",
       "    </tr>\n",
       "    <tr>\n",
       "      <th>1237</th>\n",
       "      <td>1237</td>\n",
       "      <td>1238</td>\n",
       "      <td>Jillian Michaels' Fitness Ultimatum 2009</td>\n",
       "      <td>Wii</td>\n",
       "      <td>2008.0</td>\n",
       "      <td>Sports</td>\n",
       "      <td>Deep Silver</td>\n",
       "      <td>0.94</td>\n",
       "      <td>0.20</td>\n",
       "      <td>0.00</td>\n",
       "      <td>0.11</td>\n",
       "      <td>1.24</td>\n",
       "      <td>31.00</td>\n",
       "    </tr>\n",
       "    <tr>\n",
       "      <th>1763</th>\n",
       "      <td>1763</td>\n",
       "      <td>1764</td>\n",
       "      <td>AMF Bowling Pinbusters!</td>\n",
       "      <td>Wii</td>\n",
       "      <td>2007.0</td>\n",
       "      <td>Sports</td>\n",
       "      <td>Bethesda Softworks</td>\n",
       "      <td>0.83</td>\n",
       "      <td>0.00</td>\n",
       "      <td>0.00</td>\n",
       "      <td>0.07</td>\n",
       "      <td>0.90</td>\n",
       "      <td>30.50</td>\n",
       "    </tr>\n",
       "  </tbody>\n",
       "</table>\n",
       "<p>1907 rows × 13 columns</p>\n",
       "</div>"
      ],
      "text/plain": [
       "      index  Rank                                  Game Title Platform  \\\n",
       "73       73    74        The Legend of Zelda: Ocarina of Time      N64   \n",
       "821     821   822                              The Orange Box     X360   \n",
       "411     411   412                               Metroid Prime       GC   \n",
       "78       78    79                                    Tekken 3       PS   \n",
       "461     461   462                                    BioShock     X360   \n",
       "...     ...   ...                                         ...      ...   \n",
       "953     953   954          High School Musical 3: Senior Year       DS   \n",
       "1558   1558  1559  Dora the Explorer: Dora Saves the Mermaids       DS   \n",
       "1387   1387  1388       High School Musical 2: Work This Out!       DS   \n",
       "1237   1237  1238    Jillian Michaels' Fitness Ultimatum 2009      Wii   \n",
       "1763   1763  1764                     AMF Bowling Pinbusters!      Wii   \n",
       "\n",
       "        Year      Genre                    Publisher  North America  Europe  \\\n",
       "73    1998.0  Adventure                     Nintendo           4.10    1.89   \n",
       "821   2007.0    Shooter              Electronic Arts           1.04    0.48   \n",
       "411   2002.0    Shooter                     Nintendo           1.96    0.67   \n",
       "78    1998.0   Fighting  Sony Computer Entertainment           3.27    2.22   \n",
       "461   2007.0    Shooter         Take-Two Interactive           1.46    0.81   \n",
       "...      ...        ...                          ...            ...     ...   \n",
       "953   2008.0       Misc   Disney Interactive Studios           0.60    0.75   \n",
       "1558  2007.0   Platform         Take-Two Interactive           0.94    0.00   \n",
       "1387  2008.0       Misc   Disney Interactive Studios           0.49    0.52   \n",
       "1237  2008.0     Sports                  Deep Silver           0.94    0.20   \n",
       "1763  2007.0     Sports           Bethesda Softworks           0.83    0.00   \n",
       "\n",
       "      Japan  Rest of World  Global  Review  \n",
       "73     1.45           0.16    7.60   97.00  \n",
       "821    0.02           0.17    1.71   96.36  \n",
       "411    0.10           0.09    2.82   96.35  \n",
       "78     1.40           0.29    7.16   96.30  \n",
       "461    0.05           0.26    2.58   96.12  \n",
       "...     ...            ...     ...     ...  \n",
       "953    0.00           0.17    1.53   35.00  \n",
       "1558   0.00           0.08    1.03   34.00  \n",
       "1387   0.00           0.13    1.14   33.00  \n",
       "1237   0.00           0.11    1.24   31.00  \n",
       "1763   0.00           0.07    0.90   30.50  \n",
       "\n",
       "[1907 rows x 13 columns]"
      ]
     },
     "execution_count": 78,
     "metadata": {},
     "output_type": "execute_result"
    }
   ],
   "source": [
    "games.sort_values(['Review'],ascending=False)"
   ]
  },
  {
   "attachments": {},
   "cell_type": "markdown",
   "metadata": {},
   "source": [
    "## Приведем формат значений столбца Year из float64 в datetime64. Заодно избавимся от пропущенных значений в датафрейме."
   ]
  },
  {
   "cell_type": "code",
   "execution_count": 80,
   "metadata": {},
   "outputs": [],
   "source": [
    "games['Year'] = pd.to_datetime(games['Year'],format='%Y')"
   ]
  },
  {
   "cell_type": "code",
   "execution_count": 91,
   "metadata": {},
   "outputs": [],
   "source": [
    "games=games.dropna(axis=0)"
   ]
  },
  {
   "cell_type": "code",
   "execution_count": 94,
   "metadata": {},
   "outputs": [
    {
     "name": "stdout",
     "output_type": "stream",
     "text": [
      "<class 'pandas.core.frame.DataFrame'>\n",
      "Int64Index: 1878 entries, 0 to 1906\n",
      "Data columns (total 13 columns):\n",
      " #   Column         Non-Null Count  Dtype         \n",
      "---  ------         --------------  -----         \n",
      " 0   index          1878 non-null   int64         \n",
      " 1   Rank           1878 non-null   int64         \n",
      " 2   Game Title     1878 non-null   object        \n",
      " 3   Platform       1878 non-null   object        \n",
      " 4   Year           1878 non-null   datetime64[ns]\n",
      " 5   Genre          1878 non-null   object        \n",
      " 6   Publisher      1878 non-null   object        \n",
      " 7   North America  1878 non-null   float64       \n",
      " 8   Europe         1878 non-null   float64       \n",
      " 9   Japan          1878 non-null   float64       \n",
      " 10  Rest of World  1878 non-null   float64       \n",
      " 11  Global         1878 non-null   float64       \n",
      " 12  Review         1878 non-null   float64       \n",
      "dtypes: datetime64[ns](1), float64(6), int64(2), object(4)\n",
      "memory usage: 205.4+ KB\n"
     ]
    }
   ],
   "source": [
    "games.info()"
   ]
  },
  {
   "attachments": {},
   "cell_type": "markdown",
   "metadata": {},
   "source": [
    "## Избавились от 29 строк содержащих пустые значения"
   ]
  },
  {
   "attachments": {},
   "cell_type": "markdown",
   "metadata": {},
   "source": [
    "# Анализ"
   ]
  },
  {
   "cell_type": "markdown",
   "metadata": {},
   "source": [
    "## Сначала посмотрим наиболее популярные жанры игр среди издателей"
   ]
  },
  {
   "cell_type": "code",
   "execution_count": 122,
   "metadata": {},
   "outputs": [
    {
     "data": {
      "text/plain": [
       "Sports          303\n",
       "Action          272\n",
       "Shooter         204\n",
       "Platform        186\n",
       "Racing          184\n",
       "Role-Playing    171\n",
       "Misc            153\n",
       "Fighting        125\n",
       "Adventure       105\n",
       "Simulation       92\n",
       "Puzzle           44\n",
       "Strategy         39\n",
       "Name: Genre, dtype: int64"
      ]
     },
     "execution_count": 122,
     "metadata": {},
     "output_type": "execute_result"
    }
   ],
   "source": [
    "gv=games['Genre'].value_counts()\n",
    "gv"
   ]
  },
  {
   "cell_type": "code",
   "execution_count": 246,
   "metadata": {},
   "outputs": [
    {
     "data": {
      "text/plain": [
       "Text(0.5, 0, 'Genre')"
      ]
     },
     "execution_count": 246,
     "metadata": {},
     "output_type": "execute_result"
    },
    {
     "data": {
      "image/png": "[encoded data removed]",
      "text/plain": [
       "<Figure size 432x288 with 1 Axes>"
      ]
     },
     "metadata": {
      "needs_background": "light"
     },
     "output_type": "display_data"
    }
   ],
   "source": [
    "gv.plot().set_xlabel('Genre')"
   ]
  },
  {
   "attachments": {},
   "cell_type": "markdown",
   "metadata": {},
   "source": [
    "### Самыми популярными жанрами являются спортивные симуляторы, шутеры и гонки"
   ]
  },
  {
   "cell_type": "markdown",
   "metadata": {},
   "source": [
    "## Теперь посмотрим общую тенденцию продаж видеоигр"
   ]
  },
  {
   "cell_type": "code",
   "execution_count": 150,
   "metadata": {},
   "outputs": [
    {
     "data": {
      "text/plain": [
       "Year\n",
       "1983     10.96\n",
       "1984     45.66\n",
       "1985     49.57\n",
       "1986     27.17\n",
       "1987     17.06\n",
       "1988     42.19\n",
       "1989     62.87\n",
       "1990     46.48\n",
       "1991     21.41\n",
       "1992     71.47\n",
       "1993     29.36\n",
       "1994     58.86\n",
       "1995     49.21\n",
       "1996    111.85\n",
       "1997    120.69\n",
       "1998    176.57\n",
       "1999    176.24\n",
       "2000    143.47\n",
       "2001    234.65\n",
       "2002    248.17\n",
       "2003    211.74\n",
       "2004    271.01\n",
       "2005    276.14\n",
       "2006    355.65\n",
       "2007    371.97\n",
       "2008    385.92\n",
       "2009    357.13\n",
       "2010    334.11\n",
       "2011    251.01\n",
       "2012    137.41\n",
       "Name: Global, dtype: float64"
      ]
     },
     "execution_count": 150,
     "metadata": {},
     "output_type": "execute_result"
    }
   ],
   "source": [
    "gy=games.groupby(games['Year'].dt.year)['Global'].sum()\n",
    "gy"
   ]
  },
  {
   "cell_type": "code",
   "execution_count": 258,
   "metadata": {},
   "outputs": [
    {
     "data": {
      "text/plain": [
       "<AxesSubplot:xlabel='Year'>"
      ]
     },
     "execution_count": 258,
     "metadata": {},
     "output_type": "execute_result"
    },
    {
     "data": {
      "image/png": "[encoded data removed]",
      "text/plain": [
       "<Figure size 1440x720 with 1 Axes>"
      ]
     },
     "metadata": {
      "needs_background": "light"
     },
     "output_type": "display_data"
    }
   ],
   "source": [
    "fig = plt.subplots(figsize=(20,10))\n",
    "gy.plot()"
   ]
  },
  {
   "attachments": {},
   "cell_type": "markdown",
   "metadata": {},
   "source": [
    "### Как видно из графика пик в 2008 году сменился падением, которое усиливается к 2012 году"
   ]
  },
  {
   "attachments": {},
   "cell_type": "markdown",
   "metadata": {},
   "source": [
    "## Посмотрим продажи по топ 10 издателей видеоигр"
   ]
  },
  {
   "cell_type": "code",
   "execution_count": 277,
   "metadata": {},
   "outputs": [
    {
     "data": {
      "text/plain": [
       "Publisher\n",
       "Nintendo                       1447.81\n",
       "Electronic Arts                 624.18\n",
       "Sony Computer Entertainment     377.61\n",
       "Activision                      369.98\n",
       "Take-Two Interactive            208.42\n",
       "Ubisoft                         196.32\n",
       "Microsoft Game Studios          169.73\n",
       "THQ                             142.98\n",
       "Sega                            121.80\n",
       "Capcom                          114.33\n",
       "Name: Global, dtype: float64"
      ]
     },
     "execution_count": 277,
     "metadata": {},
     "output_type": "execute_result"
    }
   ],
   "source": [
    "pub=games.groupby(games['Publisher'])['Global'].sum()\n",
    "pub.sort_values(ascending=False).head(10)"
   ]
  },
  {
   "cell_type": "code",
   "execution_count": 290,
   "metadata": {},
   "outputs": [
    {
     "data": {
      "text/plain": [
       "<matplotlib.legend.Legend at 0x7f8e5f298d60>"
      ]
     },
     "execution_count": 290,
     "metadata": {},
     "output_type": "execute_result"
    },
    {
     "data": {
      "image/png": "[encoded data removed]",
      "text/plain": [
       "<Figure size 2160x2160 with 10 Axes>"
      ]
     },
     "metadata": {
      "needs_background": "light"
     },
     "output_type": "display_data"
    }
   ],
   "source": [
    "fig, ax = plt.subplots(5,2, figsize=(30,30))\n",
    "\n",
    "ax[0][0].plot(games.groupby(['Publisher', 'Year'])['Global'].sum().loc['Nintendo'], c='green')\n",
    "ax[1][0].plot(games.groupby(['Publisher', 'Year'])['Global'].sum().loc['Electronic Arts'], c='blue')\n",
    "ax[2][0].plot(games.groupby(['Publisher', 'Year'])['Global'].sum().loc['Sony Computer Entertainment'], c='orange')\n",
    "ax[3][0].plot(games.groupby(['Publisher', 'Year'])['Global'].sum().loc['Activision'], c='grey')\n",
    "ax[4][0].plot(games.groupby(['Publisher', 'Year'])['Global'].sum().loc['Take-Two Interactive'], c='red')\n",
    "ax[0][1].plot(games.groupby(['Publisher', 'Year'])['Global'].sum().loc['Ubisoft'], c='yellow')\n",
    "ax[1][1].plot(games.groupby(['Publisher', 'Year'])['Global'].sum().loc['Microsoft Game Studios'], c='brown')\n",
    "ax[2][1].plot(games.groupby(['Publisher', 'Year'])['Global'].sum().loc['THQ'], c='purple')\n",
    "ax[3][1].plot(games.groupby(['Publisher', 'Year'])['Global'].sum().loc['Sega'], c='orange')\n",
    "ax[4][1].plot(games.groupby(['Publisher', 'Year'])['Global'].sum().loc['Capcom'], c='green')\n",
    "\n",
    "for axis in ax.ravel():\n",
    "    axis.set_ylim(0, 190)\n",
    "    axis.set_xlabel('Year', fontsize=12)\n",
    "    axis.set_ylabel('Sales', fontsize=12)\n",
    "\n",
    "ax[0][0].legend(['Nintendo'], frameon=False)\n",
    "ax[1][0].legend(['Electronic Arts'], frameon=False)\n",
    "ax[2][0].legend(['Sony Computer Entertainment'], frameon=False)\n",
    "ax[3][0].legend(['Activision'], frameon=False)\n",
    "ax[4][0].legend(['Take-Two Interactive'], frameon=False)\n",
    "ax[0][1].legend(['Ubisoft'], frameon=False)\n",
    "ax[1][1].legend(['Microsoft Game Studios'], frameon=False)\n",
    "ax[2][1].legend(['THQ'], frameon=False)\n",
    "ax[3][1].legend(['Sega'], frameon=False)\n",
    "ax[4][1].legend(['Capcom'], frameon=False)"
   ]
  },
  {
   "attachments": {},
   "cell_type": "markdown",
   "metadata": {},
   "source": [
    "### Видим что Nintendo в 2006 году уставновила абсолютный рекорд по продажам в сравнении с другими компаниями"
   ]
  },
  {
   "cell_type": "code",
   "execution_count": 292,
   "metadata": {},
   "outputs": [
    {
     "data": {
      "text/plain": [
       "count    1878.000000\n",
       "mean        2.500532\n",
       "std         3.587041\n",
       "min         0.830000\n",
       "25%         1.110000\n",
       "50%         1.530000\n",
       "75%         2.547500\n",
       "max        81.120000\n",
       "Name: Global, dtype: float64"
      ]
     },
     "execution_count": 292,
     "metadata": {},
     "output_type": "execute_result"
    }
   ],
   "source": [
    "games['Global'].describe()"
   ]
  },
  {
   "attachments": {},
   "cell_type": "markdown",
   "metadata": {},
   "source": [
    "## Посмотрим есть ли корреляция между продажами и рейтингом игры"
   ]
  },
  {
   "cell_type": "code",
   "execution_count": 291,
   "metadata": {},
   "outputs": [
    {
     "data": {
      "text/plain": [
       "<AxesSubplot:xlabel='Global', ylabel='Review'>"
      ]
     },
     "execution_count": 291,
     "metadata": {},
     "output_type": "execute_result"
    },
    {
     "data": {
      "image/png": "[encoded data removed]",
      "text/plain": [
       "<Figure size 432x288 with 1 Axes>"
      ]
     },
     "metadata": {
      "needs_background": "light"
     },
     "output_type": "display_data"
    }
   ],
   "source": [
    "games.plot('Global','Review', kind='scatter')"
   ]
  },
  {
   "attachments": {},
   "cell_type": "markdown",
   "metadata": {},
   "source": [
    "### Видим что в датафрейме присутсутсвуют выбросы мешающие нам визуально оценить корреляцию"
   ]
  },
  {
   "cell_type": "code",
   "execution_count": 294,
   "metadata": {},
   "outputs": [
    {
     "name": "stdout",
     "output_type": "stream",
     "text": [
      "-1.0462499999999995\n",
      "4.703749999999999\n"
     ]
    }
   ],
   "source": [
    "q1 = games['Global'].quantile(0.25)\n",
    "q3 = games['Global'].quantile(0.75)\n",
    "iqr = q3 - q1\n",
    "\n",
    "iqr_outlier_threshold_bottom = q1 - 1.5 * iqr\n",
    "iqr_outlier_threshold_up = q3 + 1.5 * iqr\n",
    "print(iqr_outlier_threshold_bottom)\n",
    "print(iqr_outlier_threshold_up)"
   ]
  },
  {
   "cell_type": "code",
   "execution_count": 296,
   "metadata": {},
   "outputs": [
    {
     "data": {
      "text/html": [
       "<div>\n",
       "<style scoped>\n",
       "    .dataframe tbody tr th:only-of-type {\n",
       "        vertical-align: middle;\n",
       "    }\n",
       "\n",
       "    .dataframe tbody tr th {\n",
       "        vertical-align: top;\n",
       "    }\n",
       "\n",
       "    .dataframe thead th {\n",
       "        text-align: right;\n",
       "    }\n",
       "</style>\n",
       "<table border=\"1\" class=\"dataframe\">\n",
       "  <thead>\n",
       "    <tr style=\"text-align: right;\">\n",
       "      <th></th>\n",
       "      <th>index</th>\n",
       "      <th>Rank</th>\n",
       "      <th>Game Title</th>\n",
       "      <th>Platform</th>\n",
       "      <th>Year</th>\n",
       "      <th>Genre</th>\n",
       "      <th>Publisher</th>\n",
       "      <th>North America</th>\n",
       "      <th>Europe</th>\n",
       "      <th>Japan</th>\n",
       "      <th>Rest of World</th>\n",
       "      <th>Global</th>\n",
       "      <th>Review</th>\n",
       "    </tr>\n",
       "  </thead>\n",
       "  <tbody>\n",
       "    <tr>\n",
       "      <th>0</th>\n",
       "      <td>0</td>\n",
       "      <td>1</td>\n",
       "      <td>Wii Sports</td>\n",
       "      <td>Wii</td>\n",
       "      <td>2006-01-01</td>\n",
       "      <td>Sports</td>\n",
       "      <td>Nintendo</td>\n",
       "      <td>40.43</td>\n",
       "      <td>28.39</td>\n",
       "      <td>3.77</td>\n",
       "      <td>8.54</td>\n",
       "      <td>81.12</td>\n",
       "      <td>76.28</td>\n",
       "    </tr>\n",
       "    <tr>\n",
       "      <th>1</th>\n",
       "      <td>1</td>\n",
       "      <td>2</td>\n",
       "      <td>Super Mario Bros.</td>\n",
       "      <td>NES</td>\n",
       "      <td>1985-01-01</td>\n",
       "      <td>Platform</td>\n",
       "      <td>Nintendo</td>\n",
       "      <td>29.08</td>\n",
       "      <td>3.58</td>\n",
       "      <td>6.81</td>\n",
       "      <td>0.77</td>\n",
       "      <td>40.24</td>\n",
       "      <td>91.00</td>\n",
       "    </tr>\n",
       "    <tr>\n",
       "      <th>2</th>\n",
       "      <td>2</td>\n",
       "      <td>3</td>\n",
       "      <td>Mario Kart Wii</td>\n",
       "      <td>Wii</td>\n",
       "      <td>2008-01-01</td>\n",
       "      <td>Racing</td>\n",
       "      <td>Nintendo</td>\n",
       "      <td>14.50</td>\n",
       "      <td>12.22</td>\n",
       "      <td>3.63</td>\n",
       "      <td>3.21</td>\n",
       "      <td>33.55</td>\n",
       "      <td>82.07</td>\n",
       "    </tr>\n",
       "    <tr>\n",
       "      <th>3</th>\n",
       "      <td>3</td>\n",
       "      <td>4</td>\n",
       "      <td>Wii Sports Resort</td>\n",
       "      <td>Wii</td>\n",
       "      <td>2009-01-01</td>\n",
       "      <td>Sports</td>\n",
       "      <td>Nintendo</td>\n",
       "      <td>14.82</td>\n",
       "      <td>10.51</td>\n",
       "      <td>3.18</td>\n",
       "      <td>3.01</td>\n",
       "      <td>31.52</td>\n",
       "      <td>82.65</td>\n",
       "    </tr>\n",
       "    <tr>\n",
       "      <th>4</th>\n",
       "      <td>4</td>\n",
       "      <td>5</td>\n",
       "      <td>Tetris</td>\n",
       "      <td>GB</td>\n",
       "      <td>1989-01-01</td>\n",
       "      <td>Puzzle</td>\n",
       "      <td>Nintendo</td>\n",
       "      <td>23.20</td>\n",
       "      <td>2.26</td>\n",
       "      <td>4.22</td>\n",
       "      <td>0.58</td>\n",
       "      <td>30.26</td>\n",
       "      <td>88.00</td>\n",
       "    </tr>\n",
       "    <tr>\n",
       "      <th>...</th>\n",
       "      <td>...</td>\n",
       "      <td>...</td>\n",
       "      <td>...</td>\n",
       "      <td>...</td>\n",
       "      <td>...</td>\n",
       "      <td>...</td>\n",
       "      <td>...</td>\n",
       "      <td>...</td>\n",
       "      <td>...</td>\n",
       "      <td>...</td>\n",
       "      <td>...</td>\n",
       "      <td>...</td>\n",
       "      <td>...</td>\n",
       "    </tr>\n",
       "    <tr>\n",
       "      <th>173</th>\n",
       "      <td>173</td>\n",
       "      <td>174</td>\n",
       "      <td>Resident Evil 5</td>\n",
       "      <td>PS3</td>\n",
       "      <td>2009-01-01</td>\n",
       "      <td>Action</td>\n",
       "      <td>Capcom</td>\n",
       "      <td>1.84</td>\n",
       "      <td>1.32</td>\n",
       "      <td>1.08</td>\n",
       "      <td>0.61</td>\n",
       "      <td>4.84</td>\n",
       "      <td>87.11</td>\n",
       "    </tr>\n",
       "    <tr>\n",
       "      <th>174</th>\n",
       "      <td>174</td>\n",
       "      <td>175</td>\n",
       "      <td>Crash Team Racing</td>\n",
       "      <td>PS</td>\n",
       "      <td>1999-01-01</td>\n",
       "      <td>Racing</td>\n",
       "      <td>Sony Computer Entertainment</td>\n",
       "      <td>2.57</td>\n",
       "      <td>1.57</td>\n",
       "      <td>0.44</td>\n",
       "      <td>0.21</td>\n",
       "      <td>4.79</td>\n",
       "      <td>91.78</td>\n",
       "    </tr>\n",
       "    <tr>\n",
       "      <th>175</th>\n",
       "      <td>175</td>\n",
       "      <td>176</td>\n",
       "      <td>Grand Theft Auto: Vice City Stories</td>\n",
       "      <td>PSP</td>\n",
       "      <td>2006-01-01</td>\n",
       "      <td>Action</td>\n",
       "      <td>Take-Two Interactive</td>\n",
       "      <td>1.66</td>\n",
       "      <td>1.82</td>\n",
       "      <td>0.16</td>\n",
       "      <td>1.12</td>\n",
       "      <td>4.76</td>\n",
       "      <td>87.54</td>\n",
       "    </tr>\n",
       "    <tr>\n",
       "      <th>176</th>\n",
       "      <td>176</td>\n",
       "      <td>177</td>\n",
       "      <td>Driver 2</td>\n",
       "      <td>PS</td>\n",
       "      <td>2000-01-01</td>\n",
       "      <td>Action</td>\n",
       "      <td>Atari</td>\n",
       "      <td>2.36</td>\n",
       "      <td>2.10</td>\n",
       "      <td>0.02</td>\n",
       "      <td>0.25</td>\n",
       "      <td>4.73</td>\n",
       "      <td>69.20</td>\n",
       "    </tr>\n",
       "    <tr>\n",
       "      <th>177</th>\n",
       "      <td>177</td>\n",
       "      <td>178</td>\n",
       "      <td>Assassin's Creed III</td>\n",
       "      <td>PS3</td>\n",
       "      <td>2012-01-01</td>\n",
       "      <td>Action</td>\n",
       "      <td>Ubisoft</td>\n",
       "      <td>2.15</td>\n",
       "      <td>1.69</td>\n",
       "      <td>0.13</td>\n",
       "      <td>0.74</td>\n",
       "      <td>4.71</td>\n",
       "      <td>85.56</td>\n",
       "    </tr>\n",
       "  </tbody>\n",
       "</table>\n",
       "<p>177 rows × 13 columns</p>\n",
       "</div>"
      ],
      "text/plain": [
       "     index  Rank                           Game Title Platform       Year  \\\n",
       "0        0     1                           Wii Sports      Wii 2006-01-01   \n",
       "1        1     2                    Super Mario Bros.      NES 1985-01-01   \n",
       "2        2     3                       Mario Kart Wii      Wii 2008-01-01   \n",
       "3        3     4                    Wii Sports Resort      Wii 2009-01-01   \n",
       "4        4     5                               Tetris       GB 1989-01-01   \n",
       "..     ...   ...                                  ...      ...        ...   \n",
       "173    173   174                      Resident Evil 5      PS3 2009-01-01   \n",
       "174    174   175                    Crash Team Racing       PS 1999-01-01   \n",
       "175    175   176  Grand Theft Auto: Vice City Stories      PSP 2006-01-01   \n",
       "176    176   177                             Driver 2       PS 2000-01-01   \n",
       "177    177   178                 Assassin's Creed III      PS3 2012-01-01   \n",
       "\n",
       "        Genre                    Publisher  North America  Europe  Japan  \\\n",
       "0      Sports                     Nintendo          40.43   28.39   3.77   \n",
       "1    Platform                     Nintendo          29.08    3.58   6.81   \n",
       "2      Racing                     Nintendo          14.50   12.22   3.63   \n",
       "3      Sports                     Nintendo          14.82   10.51   3.18   \n",
       "4      Puzzle                     Nintendo          23.20    2.26   4.22   \n",
       "..        ...                          ...            ...     ...    ...   \n",
       "173    Action                       Capcom           1.84    1.32   1.08   \n",
       "174    Racing  Sony Computer Entertainment           2.57    1.57   0.44   \n",
       "175    Action         Take-Two Interactive           1.66    1.82   0.16   \n",
       "176    Action                        Atari           2.36    2.10   0.02   \n",
       "177    Action                      Ubisoft           2.15    1.69   0.13   \n",
       "\n",
       "     Rest of World  Global  Review  \n",
       "0             8.54   81.12   76.28  \n",
       "1             0.77   40.24   91.00  \n",
       "2             3.21   33.55   82.07  \n",
       "3             3.01   31.52   82.65  \n",
       "4             0.58   30.26   88.00  \n",
       "..             ...     ...     ...  \n",
       "173           0.61    4.84   87.11  \n",
       "174           0.21    4.79   91.78  \n",
       "175           1.12    4.76   87.54  \n",
       "176           0.25    4.73   69.20  \n",
       "177           0.74    4.71   85.56  \n",
       "\n",
       "[177 rows x 13 columns]"
      ]
     },
     "execution_count": 296,
     "metadata": {},
     "output_type": "execute_result"
    }
   ],
   "source": [
    "games[games['Global'] > iqr_outlier_threshold_up]"
   ]
  },
  {
   "cell_type": "markdown",
   "metadata": {},
   "source": [
    "### В итоге у нас 177 значений - выбросов"
   ]
  },
  {
   "cell_type": "code",
   "execution_count": 298,
   "metadata": {},
   "outputs": [
    {
     "data": {
      "text/plain": [
       "0.18189043014634937"
      ]
     },
     "execution_count": 298,
     "metadata": {},
     "output_type": "execute_result"
    }
   ],
   "source": [
    "games['Global'].corr(games['Review'])"
   ]
  },
  {
   "attachments": {},
   "cell_type": "markdown",
   "metadata": {},
   "source": [
    "### Без визуализации видим что корреляция между продажами и рейтингом игры малая"
   ]
  }
 ],
 "metadata": {
  "kernelspec": {
   "display_name": "Python 3.9.12 ('base')",
   "language": "python",
   "name": "python3"
  },
  "language_info": {
   "codemirror_mode": {
    "name": "ipython",
    "version": 3
   },
   "file_extension": ".py",
   "mimetype": "text/x-python",
   "name": "python",
   "nbconvert_exporter": "python",
   "pygments_lexer": "ipython3",
   "version": "3.9.12"
  },
  "orig_nbformat": 4,
  "vscode": {
   "interpreter": {
    "hash": "2b26f4b056ef6d0bdea923a515b7b8444ebeb7ee0ffeb464dbed1382642c5338"
   }
  }
 },
 "nbformat": 4,
 "nbformat_minor": 2
}
